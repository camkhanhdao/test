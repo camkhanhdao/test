{
 "cells": [
  {
   "cell_type": "markdown",
   "id": "919900ab",
   "metadata": {},
   "source": [
    "1. It is usually estimated that one human year is equivalent to 7 dog years. In order\n",
    "to be more exact, one can consider that dogs reach adulthood in approximately two years. As\n",
    "a result, it may better to count each of the first two human years as 10.5 dog years, and then\n",
    "count each additional human year as 4 dog years. Build two functions for the two different\n",
    "calculations. Calculate the age of the dog that corresponds to a human of age 35 using the two\n",
    "functions!"
   ]
  },
  {
   "cell_type": "code",
   "execution_count": null,
   "id": "be509868",
   "metadata": {},
   "outputs": [],
   "source": [
    "##function 1 one human year is equivalent to 7 dog years\n",
    "\n",
    "def calculator_dog_age(human_years):\n",
    "    dog_years = human_years* 7\n",
    "    return dog_years\n",
    "\n",
    "## test the function - Calculate the age of the dog that corresponds to a human of age 35\n",
    "print(calculator_dog_age(35))"
   ]
  },
  {
   "cell_type": "code",
   "execution_count": null,
   "id": "d7d6d1f6",
   "metadata": {},
   "outputs": [],
   "source": [
    "## function 2\n",
    "def calculator_dog_age(human_years):\n",
    "    if human_years <= 2:                ### the first two human years as 10.5 dog years\n",
    "        dog_years = human_years * 10.5\n",
    "    else:                               ### each additional human year (after first 2 years) as 4 dog years\n",
    "        dog_years = ((human_years - 2)*4) + 10.5*2\n",
    "    return dog_years\n",
    "\n",
    "## test the function - Calculate the age of the dog that corresponds to a human of age 35\n",
    "print(calculator_dog_age(35))"
   ]
  },
  {
   "cell_type": "markdown",
   "id": "d838068c",
   "metadata": {},
   "source": [
    "2. If you have 3 straws, possibly of differing lengths, it may or may not be possible to lay them down so that they form a triangle when their ends are touching. For example, if all of the straws have a length of 10 cm then one can easily construct an equilateral triangle using them. However, if one straw is 8 cm long, while the other two are each only 3 cm long, then a triangle cannot be formed. In general, if any one length is greater than or equal to the sum\n",
    "of the other two then the lengths cannot be used to form a triangle. Otherwise they can form a triangle. Write a function that determines whether or not three lengths can form a triangle.\n",
    "The function will take 3 parameters and return a Boolean result."
   ]
  },
  {
   "cell_type": "code",
   "execution_count": null,
   "id": "d8670471",
   "metadata": {},
   "outputs": [],
   "source": [
    "### function to check triangle validation\n",
    "def triangle_validation(x,y,z):\n",
    "    if x+y >= z and x+z >= y and y+z >= x: ###each one length must be smaller than or equal to the sum of the other two then the lengths \n",
    "        return True\n",
    "    else:\n",
    "        return False"
   ]
  },
  {
   "cell_type": "code",
   "execution_count": null,
   "id": "902ac442",
   "metadata": {},
   "outputs": [],
   "source": [
    "###test function\n",
    "triangle_validation(24,80,91)"
   ]
  },
  {
   "cell_type": "markdown",
   "id": "3304ac40",
   "metadata": {},
   "source": [
    "3.  In this exercise you will create a program that reads a letter of the alphabet from the user. If the user enters a, e, i, o or u then your program should display a message indicating that the entered letter is a vowel and also print the letter that comes before the indicated letter in the alphabet. If the user enters y then your program should display a message indicating that sometimes y is a vowel, and sometimes y is a consonant. Otherwise your program should display a message indicating that the letter is a consonant and print the letter that comes before the indicated letter in the alphabet."
   ]
  },
  {
   "cell_type": "code",
   "execution_count": null,
   "id": "8e283702",
   "metadata": {},
   "outputs": [],
   "source": [
    "### Importing string library function\n",
    "import string \n",
    "\n",
    "### Function to check whether a letter is vowel or not\n",
    "def letter_check():\n",
    "    ### Asking the user for input\n",
    "    user_input = input(\"Please input a letter here: \").lower()\n",
    "    \n",
    "    ### Storing lowercase letters in variable letters,\n",
    "    ###this list will help to find the letter that comes before the indicated letter in the alphabet\n",
    "    letters = string.ascii_lowercase\n",
    "    \n",
    "    ### check condition\n",
    "    if user_input in 'aeiou':\n",
    "        print(\"You enter a vowel, \" f\"the letter that comes before is {letters[letters.index(user_input)-1]}\")\n",
    "    elif user_input == 'y':\n",
    "        print(\"sometimes y is a vowel, and sometimes y is a consonant\")\n",
    "    else:\n",
    "        print(\"You enter a consonant, \" f\"the letter that comes before is {letters[letters.index(user_input)-1]}\")"
   ]
  },
  {
   "cell_type": "code",
   "execution_count": null,
   "id": "bef1ca64",
   "metadata": {},
   "outputs": [],
   "source": [
    "### test function\n",
    "letter_check()"
   ]
  },
  {
   "cell_type": "code",
   "execution_count": null,
   "id": "c0738c7c",
   "metadata": {},
   "outputs": [],
   "source": [
    "###### Importing string library function\n",
    "import string \n",
    "\n",
    "### Asking the user for input\n",
    "letter = input('please enter a letter here: ').lower()\n",
    "\n",
    "### checking condition\n",
    "if letter == 'a' or letter == 'e' or letter == 'i' or letter == 'o' or letter == 'u':\n",
    "    print(letter, \"is a vowel\", f\"the letter that comes before is {string.ascii_lowercase[string.ascii_lowercase.index(letter)-1]}\")\n",
    "elif letter == 'y':\n",
    "    print('sometimes y is a vowel, and sometimes y is a consonant')\n",
    "else:\n",
    "    print(letter, \"is a consonant\", f\"the letter that comes before is {string.ascii_lowercase[string.ascii_lowercase.index(letter)-1]}\")"
   ]
  }
 ],
 "metadata": {
  "kernelspec": {
   "display_name": "Python 3",
   "language": "python",
   "name": "python3"
  },
  "language_info": {
   "codemirror_mode": {
    "name": "ipython",
    "version": 3
   },
   "file_extension": ".py",
   "mimetype": "text/x-python",
   "name": "python",
   "nbconvert_exporter": "python",
   "pygments_lexer": "ipython3",
   "version": "3.8.8"
  }
 },
 "nbformat": 4,
 "nbformat_minor": 5
}
